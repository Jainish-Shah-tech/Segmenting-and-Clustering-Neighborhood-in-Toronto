{
 "cells": [
  {
   "cell_type": "markdown",
   "metadata": {},
   "source": [
    "# <strong>Battle of Neighborhood Week 1</strong>"
   ]
  },
  {
   "cell_type": "markdown",
   "metadata": {},
   "source": [
    "# Introduction"
   ]
  },
  {
   "cell_type": "markdown",
   "metadata": {},
   "source": [
    "### Toronto is also one of the most multicultural cities in the world, making life in Toronto a wonderful multicultural experience for all. More than 140 languages and dialects are spoken in the city, and almost half the population Toronto were born outside Canada.Toronto’s expat lifestyle is filled with fantastic restaurants, loads of shopping options, and great entertainment and nightlife venues. If the day-to-day excitement of the city isn’t enough, expats will be relieved to find that there are many annual events to anticipate.Toronto is a city where now a days more people are coming across the world for study purpose.There are many indians living in toronto. In our project we will see in which area of toronto we should open an indian restaurant."
   ]
  },
  {
   "cell_type": "markdown",
   "metadata": {},
   "source": [
    "# Problem Description"
   ]
  },
  {
   "cell_type": "markdown",
   "metadata": {},
   "source": [
    "<strong> Restaurant is a place where people come to have food and drinks for a cost, People love to do many things and try something new or stick with their own routines, it depends on the individual and there are so many of them with different cultural and various aspects in Toronto city. There are so many cuisines, which is based on the style of cooking, the ingredients, dishes and techniques. For our problem lets stick with Indian cuisine.\n",
    "\n",
    "<strong>Let assume we want to open an Indian Restaurant in Toronto, at which place in toronto we should open restaurant.So what are all the factors we have to take into account such as follows,\n",
    "    <ul>\n",
    "        <li>Market Places</li>\n",
    "        <li>Competition in particular location</li>\n",
    "        <li>Aiding places that make people come to restaurants like Gym, Entertaining Public places</li>\n",
    "        <li>Population</li>\n",
    "        <li>Menu from competitors</li>\n",
    "        <li>Transportation Facilities</li>\n",
    "     \n",
    "    \n",
    "<strong>And so on... So our solution needs to be data driven for avoiding or considering low risk criteria and high success rate and thus apply our overall knowledge in the techniques and the tools gained so far in this course.</strong>\n",
    "     "
   ]
  }
 ],
 "metadata": {
  "kernelspec": {
   "display_name": "Python",
   "language": "python",
   "name": "conda-env-python-py"
  },
  "language_info": {
   "codemirror_mode": {
    "name": "ipython",
    "version": 3
   },
   "file_extension": ".py",
   "mimetype": "text/x-python",
   "name": "python",
   "nbconvert_exporter": "python",
   "pygments_lexer": "ipython3",
   "version": "3.6.10"
  }
 },
 "nbformat": 4,
 "nbformat_minor": 4
}
